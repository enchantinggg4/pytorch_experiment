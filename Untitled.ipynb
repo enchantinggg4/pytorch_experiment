{
 "cells": [
  {
   "cell_type": "code",
   "execution_count": 5,
   "id": "418dcef4",
   "metadata": {},
   "outputs": [],
   "source": [
    "import numpy\n",
    "import torch\n",
    "from torch import nn"
   ]
  },
  {
   "cell_type": "code",
   "execution_count": 18,
   "id": "71d569b4",
   "metadata": {},
   "outputs": [
    {
     "name": "stdout",
     "output_type": "stream",
     "text": [
      "tensor([[ 0.2580, -1.8965,  0.4412],\n",
      "        [-0.1436,  0.9543, -1.3277]])\n",
      "tensor(-1.7143)\n",
      "tensor([[0.4316, 0.0500, 0.5184],\n",
      "        [0.2324, 0.6965, 0.0711]])\n",
      "tensor(2.)\n"
     ]
    }
   ],
   "source": [
    "m = nn.Softmax(dim=1)\n",
    "input = torch.randn(2, 3)\n",
    "output = m(input)\n",
    "print(input)\n",
    "print(input.sum())\n",
    "print(output)\n",
    "print(output.sum())"
   ]
  },
  {
   "cell_type": "code",
   "execution_count": 14,
   "id": "b6d23782",
   "metadata": {},
   "outputs": [],
   "source": [
    "input_size = 64\n",
    "input = torch.nn.Linear(input_size, input_size * 2)\n",
    "h1 = torch.nn.Linear(input_size * 2, input_size)\n",
    "r1 = torch.nn.ReLU()\n",
    "h2 = torch.nn.Linear(input_size, input_size)\n",
    "out = torch.nn.Linear(input_size, input_size)\n",
    "r2 = torch.nn.Softmax()\n",
    "\n",
    "model = torch.nn.Sequential(input, h1, r1, h2, out, r2)"
   ]
  },
  {
   "cell_type": "code",
   "execution_count": 15,
   "id": "c6eda7d2-29b9-424b-b5d5-ce2b0863a236",
   "metadata": {},
   "outputs": [
    {
     "data": {
      "text/plain": [
       "Sequential(\n",
       "  (0): Linear(in_features=64, out_features=128, bias=True)\n",
       "  (1): Linear(in_features=128, out_features=64, bias=True)\n",
       "  (2): ReLU()\n",
       "  (3): Linear(in_features=64, out_features=64, bias=True)\n",
       "  (4): Linear(in_features=64, out_features=64, bias=True)\n",
       "  (5): Softmax(dim=None)\n",
       ")"
      ]
     },
     "execution_count": 15,
     "metadata": {},
     "output_type": "execute_result"
    }
   ],
   "source": [
    "model\n"
   ]
  },
  {
   "cell_type": "code",
   "execution_count": 16,
   "id": "6fd42859-73cf-411f-8102-4573187b6cc0",
   "metadata": {},
   "outputs": [
    {
     "ename": "ModuleAttributeError",
     "evalue": "'Sequential' object has no attribute 'clone'",
     "output_type": "error",
     "traceback": [
      "\u001b[0;31m---------------------------------------------------------------------------\u001b[0m",
      "\u001b[0;31mModuleAttributeError\u001b[0m                      Traceback (most recent call last)",
      "\u001b[0;32m<ipython-input-16-dfad7addae03>\u001b[0m in \u001b[0;36m<module>\u001b[0;34m\u001b[0m\n\u001b[0;32m----> 1\u001b[0;31m \u001b[0mmodel\u001b[0m\u001b[0;34m.\u001b[0m\u001b[0mclone\u001b[0m\u001b[0;34m(\u001b[0m\u001b[0;34m)\u001b[0m\u001b[0;34m\u001b[0m\u001b[0;34m\u001b[0m\u001b[0m\n\u001b[0m",
      "\u001b[0;32m~/miniconda3/lib/python3.9/site-packages/torch/nn/modules/module.py\u001b[0m in \u001b[0;36m__getattr__\u001b[0;34m(self, name)\u001b[0m\n\u001b[1;32m    776\u001b[0m             \u001b[0;32mif\u001b[0m \u001b[0mname\u001b[0m \u001b[0;32min\u001b[0m \u001b[0mmodules\u001b[0m\u001b[0;34m:\u001b[0m\u001b[0;34m\u001b[0m\u001b[0;34m\u001b[0m\u001b[0m\n\u001b[1;32m    777\u001b[0m                 \u001b[0;32mreturn\u001b[0m \u001b[0mmodules\u001b[0m\u001b[0;34m[\u001b[0m\u001b[0mname\u001b[0m\u001b[0;34m]\u001b[0m\u001b[0;34m\u001b[0m\u001b[0;34m\u001b[0m\u001b[0m\n\u001b[0;32m--> 778\u001b[0;31m         raise ModuleAttributeError(\"'{}' object has no attribute '{}'\".format(\n\u001b[0m\u001b[1;32m    779\u001b[0m             type(self).__name__, name))\n\u001b[1;32m    780\u001b[0m \u001b[0;34m\u001b[0m\u001b[0m\n",
      "\u001b[0;31mModuleAttributeError\u001b[0m: 'Sequential' object has no attribute 'clone'"
     ]
    }
   ],
   "source": [
    "model.clone()"
   ]
  },
  {
   "cell_type": "code",
   "execution_count": null,
   "id": "07ac0ba6-6dd5-4772-b78f-005c0cce069a",
   "metadata": {},
   "outputs": [],
   "source": []
  }
 ],
 "metadata": {
  "kernelspec": {
   "display_name": "Python 3",
   "language": "python",
   "name": "python3"
  },
  "language_info": {
   "codemirror_mode": {
    "name": "ipython",
    "version": 3
   },
   "file_extension": ".py",
   "mimetype": "text/x-python",
   "name": "python",
   "nbconvert_exporter": "python",
   "pygments_lexer": "ipython3",
   "version": "3.9.5"
  }
 },
 "nbformat": 4,
 "nbformat_minor": 5
}
