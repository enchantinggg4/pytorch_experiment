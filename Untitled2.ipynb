{
 "cells": [
  {
   "cell_type": "code",
   "execution_count": 2,
   "id": "db1a0299-3384-46fe-b29a-301a7eae155f",
   "metadata": {},
   "outputs": [],
   "source": [
    "import torch\n",
    "from torch import tensor\n",
    "import torch.nn\n",
    "import numpy\n",
    "from torch import nn\n",
    "import torch.optim as optim\n",
    "from torch.autograd import Variable\n",
    "\n",
    "multiply_amount = 5"
   ]
  },
  {
   "cell_type": "code",
   "execution_count": 3,
   "id": "2c40f4da-233c-449e-903e-8be81a1258b2",
   "metadata": {},
   "outputs": [],
   "source": [
    "class Test(torch.nn.Module):\n",
    "    def __init__(self, c):\n",
    "        super(Test, self).__init__()\n",
    "        self.lin1 = torch.nn.Linear(c, c * 2)\n",
    "        self.re1 = torch.nn.ReLU()\n",
    "        self.lin3 = torch.nn.Linear(c * 2, 1)\n",
    "        \n",
    "    def forward(self, x):\n",
    "        x = self.lin1(x)\n",
    "        x = self.re1(x)\n",
    "        # x = self.lin2(x)\n",
    "        # x = self.re2(x)\n",
    "        x = self.lin3(x)\n",
    "        return x"
   ]
  },
  {
   "cell_type": "code",
   "execution_count": 4,
   "id": "114469db-3fe8-45f8-a451-2eefb54f58cb",
   "metadata": {},
   "outputs": [],
   "source": [
    "X = torch.tensor(numpy.random.random_sample((30, multiply_amount)) * 12).float()\n",
    "Y = torch.tensor([x.sum() for x in X]).float()"
   ]
  },
  {
   "cell_type": "code",
   "execution_count": 5,
   "id": "43218055-cbd8-49bf-b5d3-54a0aef1fdfa",
   "metadata": {},
   "outputs": [],
   "source": [
    "model = Test(multiply_amount)"
   ]
  },
  {
   "cell_type": "code",
   "execution_count": 6,
   "id": "93ba7449-ddc6-431f-919e-ffb48336f986",
   "metadata": {},
   "outputs": [],
   "source": [
    "def weights_init(model):\n",
    "    for m in model.modules():\n",
    "        if isinstance(m, nn.Linear):\n",
    "            # initialize the weight tensor, here we use a normal distribution\n",
    "            m.weight.data.normal_(0, 1)\n",
    "\n",
    "weights_init(model)"
   ]
  },
  {
   "cell_type": "code",
   "execution_count": 7,
   "id": "a7d3cb7a-ffee-45b1-90fd-04ee043f8192",
   "metadata": {},
   "outputs": [],
   "source": [
    "loss_func = nn.MSELoss()\n",
    "optimizer = torch.optim.Adam(model.parameters(), lr = 0.03)\n"
   ]
  },
  {
   "cell_type": "code",
   "execution_count": 8,
   "id": "a13785ed-55fd-44e9-b2e5-4d8ee2ce4d65",
   "metadata": {},
   "outputs": [
    {
     "name": "stderr",
     "output_type": "stream",
     "text": [
      "/Users/itachi/miniconda3/lib/python3.9/site-packages/torch/nn/modules/loss.py:446: UserWarning: Using a target size (torch.Size([])) that is different to the input size (torch.Size([1])). This will likely lead to incorrect results due to broadcasting. Please ensure they have the same size.\n",
      "  return F.mse_loss(input, target, reduction=self.reduction)\n"
     ]
    },
    {
     "name": "stdout",
     "output_type": "stream",
     "text": [
      "Epoch: 0, Loss: 54.035545349121094, \n",
      "Epoch: 100, Loss: 0.0020392797887325287, \n",
      "Epoch: 200, Loss: 0.3001747727394104, \n",
      "Epoch: 300, Loss: 3.148803079966456e-05, \n",
      "Epoch: 400, Loss: 0.01311943493783474, \n",
      "Epoch: 500, Loss: 0.00035706270136870444, \n",
      "Epoch: 600, Loss: 7.075177563820034e-05, \n",
      "Epoch: 700, Loss: 0.09974391758441925, \n",
      "Epoch: 800, Loss: 0.05770797282457352, \n",
      "Epoch: 900, Loss: 0.0008537308895029128, \n",
      "Epoch: 1000, Loss: 2.3283064365386963e-10, \n",
      "Epoch: 1100, Loss: 0.06216666102409363, \n",
      "Epoch: 1200, Loss: 5.2532413974404335e-09, \n",
      "Epoch: 1300, Loss: 0.9414056539535522, \n",
      "Epoch: 1400, Loss: 0.0006627269904129207, \n",
      "Epoch: 1500, Loss: 1.5370460459962487e-06, \n",
      "Epoch: 1600, Loss: 6.148184183984995e-10, \n",
      "Epoch: 1700, Loss: 2.9467628337442875e-10, \n",
      "Epoch: 1800, Loss: 1.4551915228366852e-11, \n",
      "Epoch: 1900, Loss: 2.690649125725031e-08, \n",
      "Epoch: 2000, Loss: 0.13053596019744873, \n"
     ]
    }
   ],
   "source": [
    "epochs = 2001\n",
    "steps = X.size(0)\n",
    "for i in range(epochs):\n",
    "    for j in range(steps):\n",
    "        data_point = numpy.random.randint(X.size(0))\n",
    "        x_var = Variable(X[data_point], requires_grad=False)\n",
    "        y_var = Variable(Y[data_point], requires_grad=False)\n",
    "        y_hat = model(x_var)\n",
    "        loss = loss_func.forward(y_hat, y_var)\n",
    "        loss.backward()\n",
    "        optimizer.step()\n",
    "        optimizer.zero_grad()\n",
    "        \n",
    "    if i % 100 == 0:\n",
    "        print(\"Epoch: {0}, Loss: {1}, \".format(i, loss))"
   ]
  },
  {
   "cell_type": "code",
   "execution_count": 9,
   "id": "6b1f1e73-2988-4dc8-a2d2-df893b6789fa",
   "metadata": {},
   "outputs": [],
   "source": [
    "dp = numpy.random.randint(X.size(0))"
   ]
  },
  {
   "cell_type": "code",
   "execution_count": 10,
   "id": "dcc0655a-1992-4f43-b3a0-1e940893cbcc",
   "metadata": {},
   "outputs": [],
   "source": [
    "x = X[data_point]\n",
    "y = Y[data_point]"
   ]
  },
  {
   "cell_type": "code",
   "execution_count": 11,
   "id": "e2345bc9-73b8-4abd-a9f3-a8c8444e1302",
   "metadata": {},
   "outputs": [
    {
     "name": "stdout",
     "output_type": "stream",
     "text": [
      "tensor([34.6277], grad_fn=<AddBackward0>) tensor(34.6122)\n"
     ]
    }
   ],
   "source": [
    "print(model(x), y)"
   ]
  },
  {
   "cell_type": "code",
   "execution_count": null,
   "id": "2e1794fd-fdc2-44a5-8417-53402080e70e",
   "metadata": {},
   "outputs": [],
   "source": []
  }
 ],
 "metadata": {
  "kernelspec": {
   "display_name": "Python 3",
   "language": "python",
   "name": "python3"
  },
  "language_info": {
   "codemirror_mode": {
    "name": "ipython",
    "version": 3
   },
   "file_extension": ".py",
   "mimetype": "text/x-python",
   "name": "python",
   "nbconvert_exporter": "python",
   "pygments_lexer": "ipython3",
   "version": "3.9.5"
  }
 },
 "nbformat": 4,
 "nbformat_minor": 5
}
