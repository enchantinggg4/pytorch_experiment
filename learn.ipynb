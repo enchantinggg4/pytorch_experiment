{
 "cells": [
  {
   "cell_type": "code",
   "execution_count": 1,
   "id": "8a8e80b9-9f7b-4d6a-9b4a-dac72137615e",
   "metadata": {},
   "outputs": [
    {
     "name": "stdout",
     "output_type": "stream",
     "text": [
      "input:  tensor([[ 0.3220, -0.1099,  0.0396,  0.5246,  0.0206],\n",
      "        [-1.6350, -0.3952, -0.2471,  0.8665,  0.9977],\n",
      "        [-0.7223,  2.3998,  3.1302, -2.0150, -1.6348]], requires_grad=True)\n",
      "target:  tensor([2, 4, 3])\n",
      "output:  tensor(2.7431, grad_fn=<NllLossBackward>)\n"
     ]
    }
   ],
   "source": [
    "import torch\n",
    "import torch.nn as nn\n",
    "\n",
    "input = torch.randn(3, 5, requires_grad=True)\n",
    "target = torch.empty(3, dtype=torch.long).random_(5)\n",
    "\n",
    "cross_entropy_loss = nn.CrossEntropyLoss()\n",
    "output = cross_entropy_loss(input, target)\n",
    "output.backward()\n",
    "\n",
    "print('input: ', input)\n",
    "print('target: ', target)\n",
    "print('output: ', output)"
   ]
  },
  {
   "cell_type": "code",
   "execution_count": null,
   "id": "97cdf427-4219-45c4-9e0c-a1da3b728989",
   "metadata": {},
   "outputs": [],
   "source": []
  }
 ],
 "metadata": {
  "kernelspec": {
   "display_name": "Python 3",
   "language": "python",
   "name": "python3"
  },
  "language_info": {
   "codemirror_mode": {
    "name": "ipython",
    "version": 3
   },
   "file_extension": ".py",
   "mimetype": "text/x-python",
   "name": "python",
   "nbconvert_exporter": "python",
   "pygments_lexer": "ipython3",
   "version": "3.9.5"
  }
 },
 "nbformat": 4,
 "nbformat_minor": 5
}
