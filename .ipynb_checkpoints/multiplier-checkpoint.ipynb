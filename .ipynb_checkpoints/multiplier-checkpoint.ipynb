{
 "cells": [
  {
   "cell_type": "code",
   "execution_count": 46,
   "id": "db1a0299-3384-46fe-b29a-301a7eae155f",
   "metadata": {},
   "outputs": [],
   "source": [
    "import torch\n",
    "from torch import tensor\n",
    "import torch.nn\n",
    "import numpy\n",
    "from torch import nn\n",
    "import torch.optim as optim\n",
    "from torch.autograd import Variable\n",
    "\n",
    "multiply_amount = 15"
   ]
  },
  {
   "cell_type": "code",
   "execution_count": 60,
   "id": "2c40f4da-233c-449e-903e-8be81a1258b2",
   "metadata": {},
   "outputs": [],
   "source": [
    "class Test(torch.nn.Module):\n",
    "    def __init__(self, c):\n",
    "        super(Test, self).__init__()\n",
    "        self.lin1 = torch.nn.Linear(c, c)\n",
    "        self.re1 = torch.nn.ReLU()\n",
    "        self.lin3 = torch.nn.Linear(c, 1)\n",
    "        \n",
    "    def forward(self, x):\n",
    "        x = self.lin1(x)\n",
    "        # x = self.re1(x)\n",
    "        # x = self.lin2(x)\n",
    "        # x = self.re2(x)\n",
    "        x = self.lin3(x)\n",
    "        return x"
   ]
  },
  {
   "cell_type": "code",
   "execution_count": 61,
   "id": "114469db-3fe8-45f8-a451-2eefb54f58cb",
   "metadata": {},
   "outputs": [],
   "source": [
    "X = torch.tensor(numpy.random.random_sample((30, multiply_amount)) * 12).float()\n",
    "Y = torch.tensor([x.sum() for x in X]).float()"
   ]
  },
  {
   "cell_type": "code",
   "execution_count": 62,
   "id": "43218055-cbd8-49bf-b5d3-54a0aef1fdfa",
   "metadata": {},
   "outputs": [],
   "source": [
    "model = Test(multiply_amount)"
   ]
  },
  {
   "cell_type": "code",
   "execution_count": 63,
   "id": "93ba7449-ddc6-431f-919e-ffb48336f986",
   "metadata": {},
   "outputs": [],
   "source": [
    "def weights_init(model):\n",
    "    for m in model.modules():\n",
    "        if isinstance(m, nn.Linear):\n",
    "            # initialize the weight tensor, here we use a normal distribution\n",
    "            m.weight.data.normal_(0, 1)\n",
    "\n",
    "weights_init(model)"
   ]
  },
  {
   "cell_type": "code",
   "execution_count": 64,
   "id": "a7d3cb7a-ffee-45b1-90fd-04ee043f8192",
   "metadata": {},
   "outputs": [],
   "source": [
    "loss_func = nn.MSELoss()\n",
    "optimizer = torch.optim.Adam(model.parameters(), lr = 0.03)\n"
   ]
  },
  {
   "cell_type": "code",
   "execution_count": null,
   "id": "a13785ed-55fd-44e9-b2e5-4d8ee2ce4d65",
   "metadata": {},
   "outputs": [
    {
     "name": "stdout",
     "output_type": "stream",
     "text": [
      "Epoch: 0, Loss: 5159.75537109375, \n",
      "Epoch: 100, Loss: 9868.798828125, \n",
      "Epoch: 200, Loss: 12625.41796875, \n",
      "Epoch: 300, Loss: 27102.119140625, \n",
      "Epoch: 400, Loss: 6931.97509765625, \n",
      "Epoch: 500, Loss: 34013.7421875, \n",
      "Epoch: 600, Loss: 9623.681640625, \n",
      "Epoch: 700, Loss: 23820.109375, \n",
      "Epoch: 800, Loss: 6931.97509765625, \n",
      "Epoch: 900, Loss: 13643.8681640625, \n",
      "Epoch: 1000, Loss: 11419.6796875, \n",
      "Epoch: 1100, Loss: 9848.4287109375, \n",
      "Epoch: 1200, Loss: 27102.119140625, \n",
      "Epoch: 1300, Loss: 9015.181640625, \n",
      "Epoch: 1400, Loss: 11322.1533203125, \n",
      "Epoch: 1500, Loss: 5159.75537109375, \n",
      "Epoch: 1600, Loss: 6676.193359375, \n",
      "Epoch: 1700, Loss: 34013.7421875, \n",
      "Epoch: 1800, Loss: 11419.6796875, \n",
      "Epoch: 1900, Loss: 4647.3173828125, \n",
      "Epoch: 2000, Loss: 745.7305297851562, \n",
      "Epoch: 2100, Loss: 3505.143798828125, \n",
      "Epoch: 2200, Loss: 11419.6796875, \n",
      "Epoch: 2300, Loss: 6676.193359375, \n",
      "Epoch: 2400, Loss: 14774.35546875, \n",
      "Epoch: 2500, Loss: 6931.97509765625, \n",
      "Epoch: 2600, Loss: 11419.6796875, \n",
      "Epoch: 2700, Loss: 9615.365234375, \n",
      "Epoch: 2800, Loss: 9848.4287109375, \n",
      "Epoch: 2900, Loss: 5159.75537109375, \n",
      "Epoch: 3000, Loss: 3468.089599609375, \n",
      "Epoch: 3100, Loss: 19028.9296875, \n",
      "Epoch: 3200, Loss: 9623.681640625, \n",
      "Epoch: 3300, Loss: 9623.681640625, \n",
      "Epoch: 3400, Loss: 3505.143798828125, \n",
      "Epoch: 3500, Loss: 6931.97509765625, \n",
      "Epoch: 3600, Loss: 27102.119140625, \n",
      "Epoch: 3700, Loss: 12428.2470703125, \n",
      "Epoch: 3800, Loss: 19028.9296875, \n"
     ]
    }
   ],
   "source": [
    "epochs = 5001\n",
    "steps = X.size(0)\n",
    "for i in range(epochs):\n",
    "    for j in range(steps):\n",
    "        data_point = numpy.random.randint(X.size(0))\n",
    "        \n",
    "        # optimizer.zero_grad()\n",
    "        x_var = Variable(X[data_point], requires_grad=False)\n",
    "        y_var = Variable(Y[data_point], requires_grad=False)\n",
    "        y_hat = model(x_var)\n",
    "        loss = loss_func.forward(y_hat, y_var)\n",
    "        loss.backward()\n",
    "        # optimizer.step()\n",
    "        \n",
    "    if i % 100 == 0:\n",
    "        print(\"Epoch: {0}, Loss: {1}, \".format(i, loss))"
   ]
  },
  {
   "cell_type": "code",
   "execution_count": null,
   "id": "6b1f1e73-2988-4dc8-a2d2-df893b6789fa",
   "metadata": {},
   "outputs": [],
   "source": [
    "dp = numpy.random.randint(X.size(0))"
   ]
  },
  {
   "cell_type": "code",
   "execution_count": 58,
   "id": "dcc0655a-1992-4f43-b3a0-1e940893cbcc",
   "metadata": {},
   "outputs": [],
   "source": [
    "x = X[data_point]\n",
    "y = Y[data_point]"
   ]
  },
  {
   "cell_type": "code",
   "execution_count": 59,
   "id": "e2345bc9-73b8-4abd-a9f3-a8c8444e1302",
   "metadata": {},
   "outputs": [
    {
     "name": "stdout",
     "output_type": "stream",
     "text": [
      "tensor([-48.4689], grad_fn=<AddBackward0>) tensor(105.9831)\n"
     ]
    }
   ],
   "source": [
    "print(model(x), y)"
   ]
  },
  {
   "cell_type": "code",
   "execution_count": null,
   "id": "2e1794fd-fdc2-44a5-8417-53402080e70e",
   "metadata": {},
   "outputs": [],
   "source": []
  }
 ],
 "metadata": {
  "kernelspec": {
   "display_name": "Python 3",
   "language": "python",
   "name": "python3"
  },
  "language_info": {
   "codemirror_mode": {
    "name": "ipython",
    "version": 3
   },
   "file_extension": ".py",
   "mimetype": "text/x-python",
   "name": "python",
   "nbconvert_exporter": "python",
   "pygments_lexer": "ipython3",
   "version": "3.9.5"
  }
 },
 "nbformat": 4,
 "nbformat_minor": 5
}
