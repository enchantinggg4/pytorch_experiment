{
 "cells": [
  {
   "cell_type": "code",
   "execution_count": 10,
   "id": "db1a0299-3384-46fe-b29a-301a7eae155f",
   "metadata": {},
   "outputs": [],
   "source": [
    "import torch\n",
    "from torch import tensor\n",
    "import torch.nn\n",
    "import numpy"
   ]
  },
  {
   "cell_type": "code",
   "execution_count": 114,
   "id": "2c40f4da-233c-449e-903e-8be81a1258b2",
   "metadata": {},
   "outputs": [],
   "source": [
    "class Test(torch.nn.module):\n",
    "    def __init(self):\n",
    "        super(Test, self).__init__()\n",
    "        input_conv = torch.nn.Linear(10, 20)\n",
    "        h1 = torch.nn.Linear(20, 20)\n",
    "        r1 = torch.nn.ReLU()\n",
    "        h2 = torch.nn.Linear(20, 10)\n",
    "        r2 = torch.nn.ReLU()\n",
    "        out = torch.nn.Linear(10, 1)\n",
    "\n",
    "\n",
    "model = torch.nn.Sequential(input_conv, h1, r1, h2, r2, out)"
   ]
  },
  {
   "cell_type": "code",
   "execution_count": 120,
   "id": "114469db-3fe8-45f8-a451-2eefb54f58cb",
   "metadata": {},
   "outputs": [],
   "source": [
    "input_data = numpy.random.random_sample((100,10))\n",
    "out_data = [x.sum() for x in input_data]"
   ]
  },
  {
   "cell_type": "code",
   "execution_count": null,
   "id": "43218055-cbd8-49bf-b5d3-54a0aef1fdfa",
   "metadata": {},
   "outputs": [],
   "source": []
  }
 ],
 "metadata": {
  "kernelspec": {
   "display_name": "Python 3",
   "language": "python",
   "name": "python3"
  },
  "language_info": {
   "codemirror_mode": {
    "name": "ipython",
    "version": 3
   },
   "file_extension": ".py",
   "mimetype": "text/x-python",
   "name": "python",
   "nbconvert_exporter": "python",
   "pygments_lexer": "ipython3",
   "version": "3.9.5"
  }
 },
 "nbformat": 4,
 "nbformat_minor": 5
}
