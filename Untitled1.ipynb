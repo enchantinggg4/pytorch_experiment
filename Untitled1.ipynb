{
 "cells": [
  {
   "cell_type": "code",
   "execution_count": 24,
   "id": "c871c291-a57b-4ca2-b259-532fa0602192",
   "metadata": {},
   "outputs": [],
   "source": [
    "import torch\n",
    "import torch.nn\n",
    "import pygad.torchga"
   ]
  },
  {
   "cell_type": "code",
   "execution_count": 110,
   "id": "eaad3dab-f56f-4d6f-a375-7645124447e8",
   "metadata": {},
   "outputs": [],
   "source": [
    "input_conv = torch.nn.Linear(64, 128)\n",
    "h1 = torch.nn.Linear(128, 64)\n",
    "r1 = torch.nn.ReLU()\n",
    "h2 = torch.nn.Linear(64, 8)\n",
    "r2 = torch.nn.ReLU()\n",
    "out = torch.nn.Linear(8, 2)"
   ]
  },
  {
   "cell_type": "code",
   "execution_count": 111,
   "id": "8057e7c5-d6d4-4445-943a-5f706c9afc89",
   "metadata": {},
   "outputs": [],
   "source": [
    "model = torch.nn.Sequential(input_conv, h1, r1, h2, r2, out)"
   ]
  },
  {
   "cell_type": "code",
   "execution_count": 112,
   "id": "032e611f-a484-4a3f-86c7-eff8fa20a780",
   "metadata": {},
   "outputs": [],
   "source": [
    "ga = pygad.torchga.TorchGA(model=model, num_solutions=10)"
   ]
  },
  {
   "cell_type": "code",
   "execution_count": 113,
   "id": "2706a74e-c4c8-43a3-bbbc-b142e4c2340c",
   "metadata": {},
   "outputs": [
    {
     "data": {
      "text/plain": [
       "tensor([-0.1552,  0.1249], grad_fn=<AddBackward0>)"
      ]
     },
     "execution_count": 113,
     "metadata": {},
     "output_type": "execute_result"
    }
   ],
   "source": [
    "inp = torch.rand(64)\n",
    "ga.model(inp)"
   ]
  },
  {
   "cell_type": "code",
   "execution_count": null,
   "id": "15d7b9d4-58e3-46d9-8001-1fdfe562f28f",
   "metadata": {},
   "outputs": [],
   "source": []
  },
  {
   "cell_type": "code",
   "execution_count": null,
   "id": "41755d02-cbfe-45fb-802c-e516b7be76bf",
   "metadata": {},
   "outputs": [],
   "source": []
  }
 ],
 "metadata": {
  "kernelspec": {
   "display_name": "Python 3",
   "language": "python",
   "name": "python3"
  },
  "language_info": {
   "codemirror_mode": {
    "name": "ipython",
    "version": 3
   },
   "file_extension": ".py",
   "mimetype": "text/x-python",
   "name": "python",
   "nbconvert_exporter": "python",
   "pygments_lexer": "ipython3",
   "version": "3.9.5"
  }
 },
 "nbformat": 4,
 "nbformat_minor": 5
}
